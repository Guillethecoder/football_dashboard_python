{
 "cells": [
  {
   "cell_type": "code",
   "execution_count": 2,
   "id": "e4f3344e",
   "metadata": {},
   "outputs": [],
   "source": [
    "import pandas as pd\n",
    "import numpy as np\n",
    "import os\n",
    "import math"
   ]
  },
  {
   "cell_type": "code",
   "execution_count": 3,
   "id": "9bd6d366",
   "metadata": {},
   "outputs": [],
   "source": [
    "#GET COMPETITONS\n",
    "df = pd.read_json('data/competitions.json')\n",
    "df = df[df[\"season_name\"].isin([\"2019/2020\"])]\n",
    "df = df[df[\"competition_gender\"] == \"male\"]\n",
    "\n",
    "#JOIN MATCHES\n",
    "matches_list = []\n",
    "\n",
    "for j in df[\"competition_id\"].unique():\n",
    "    comp = df[df[\"competition_id\"] == j]\n",
    "    for i in comp[\"season_id\"]:\n",
    "        season = pd.read_json('data/matches/{}/{}.json'.format(j,i))\n",
    "        matches_list.append(season)\n",
    "\n",
    "matches = pd.concat(matches_list)\n",
    "#print(matches[[\"competition_name\", \"season_name\"]])\n",
    "\n",
    "#JOIN EVENTS\n",
    "event_list = []\n",
    "for i in matches['match_id']:\n",
    "    event = pd.read_json('data/events/{}.json'.format(str(i)))\n",
    "    event[\"match_id\"] = i\n",
    "    event = event[[\"minute\", \"type\",\n",
    "           \"team\", \"player\", \"location\",\n",
    "           \"shot\", \"match_id\"]]\n",
    "    event_list.append(event)\n",
    "\n",
    "df = pd.concat(event_list)\n",
    "df = pd.merge(df, matches, on=\"match_id\")"
   ]
  },
  {
   "cell_type": "code",
   "execution_count": 6,
   "id": "07a6e523",
   "metadata": {},
   "outputs": [],
   "source": [
    "df = pd.concat([df, df[\"player\"].apply(pd.Series).add_prefix('player_')], axis=1)\n",
    "df = df.drop(columns = \"player\")"
   ]
  },
  {
   "cell_type": "code",
   "execution_count": 21,
   "id": "75aa240e",
   "metadata": {},
   "outputs": [],
   "source": [
    "df = pd.concat([df, df[\"type\"].apply(pd.Series).add_prefix('type_')], axis=1)\n",
    "df = df.drop(columns = \"type\")\n",
    "df = df[df[\"type_id\"] == 16]\n",
    "df = df.drop(columns = [\"type_id\", \"type_name\"])"
   ]
  },
  {
   "cell_type": "code",
   "execution_count": 24,
   "id": "d5643d52",
   "metadata": {},
   "outputs": [],
   "source": [
    "df = pd.concat([df, df[\"team\"].apply(pd.Series).add_prefix('team_')], axis=1)\n",
    "df = df.drop(columns = \"team\")"
   ]
  },
  {
   "cell_type": "code",
   "execution_count": 32,
   "id": "7f24d492",
   "metadata": {},
   "outputs": [
    {
     "data": {
      "text/plain": [
       "False"
      ]
     },
     "execution_count": 32,
     "metadata": {},
     "output_type": "execute_result"
    }
   ],
   "source": [
    "\"\" in df[\"team_name\"]"
   ]
  }
 ],
 "metadata": {
  "kernelspec": {
   "display_name": "Python 3 (ipykernel)",
   "language": "python",
   "name": "python3"
  },
  "language_info": {
   "codemirror_mode": {
    "name": "ipython",
    "version": 3
   },
   "file_extension": ".py",
   "mimetype": "text/x-python",
   "name": "python",
   "nbconvert_exporter": "python",
   "pygments_lexer": "ipython3",
   "version": "3.9.6"
  }
 },
 "nbformat": 4,
 "nbformat_minor": 5
}
