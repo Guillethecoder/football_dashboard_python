{
 "cells": [
  {
   "cell_type": "code",
   "execution_count": 1,
   "id": "f70afab5",
   "metadata": {},
   "outputs": [],
   "source": [
    "import json\n",
    "import pandas as pd\n",
    "import numpy as np\n",
    "import matplotlib.pyplot as plt\n",
    "import FCPython\n",
    "import os\n",
    "\n",
    "spain_list = []\n",
    "file_list = os.listdir('data/matches/11')\n",
    "for i in file_list:\n",
    "    spain_list.append(pd.read_json('data/matches/11/{}'.format(i)))\n",
    "\n",
    "spain = pd.concat(spain_list)\n",
    "\n",
    "event_list = []\n",
    "for i in spain['match_id']:\n",
    "    event_list.append(pd.read_json('data/events/{}.json'.format(str(i))))\n",
    "\n",
    "events = pd.concat(event_list)\n",
    "\n"
   ]
  },
  {
   "cell_type": "code",
   "execution_count": 2,
   "id": "7d3b2dde",
   "metadata": {},
   "outputs": [
    {
     "data": {
      "text/html": [
       "<div>\n",
       "<style scoped>\n",
       "    .dataframe tbody tr th:only-of-type {\n",
       "        vertical-align: middle;\n",
       "    }\n",
       "\n",
       "    .dataframe tbody tr th {\n",
       "        vertical-align: top;\n",
       "    }\n",
       "\n",
       "    .dataframe thead th {\n",
       "        text-align: right;\n",
       "    }\n",
       "</style>\n",
       "<table border=\"1\" class=\"dataframe\">\n",
       "  <thead>\n",
       "    <tr style=\"text-align: right;\">\n",
       "      <th></th>\n",
       "      <th>id</th>\n",
       "      <th>index</th>\n",
       "      <th>period</th>\n",
       "      <th>timestamp</th>\n",
       "      <th>minute</th>\n",
       "      <th>second</th>\n",
       "      <th>type</th>\n",
       "      <th>possession</th>\n",
       "      <th>possession_team</th>\n",
       "      <th>play_pattern</th>\n",
       "      <th>...</th>\n",
       "      <th>foul_committed</th>\n",
       "      <th>block</th>\n",
       "      <th>interception</th>\n",
       "      <th>substitution</th>\n",
       "      <th>bad_behaviour</th>\n",
       "      <th>50_50</th>\n",
       "      <th>injury_stoppage</th>\n",
       "      <th>half_start</th>\n",
       "      <th>player_off</th>\n",
       "      <th>half_end</th>\n",
       "    </tr>\n",
       "  </thead>\n",
       "  <tbody>\n",
       "    <tr>\n",
       "      <th>0</th>\n",
       "      <td>62fcd4a2-94ed-42f0-9c4e-d994ae217440</td>\n",
       "      <td>1</td>\n",
       "      <td>1</td>\n",
       "      <td>2021-09-06 00:00:00.000</td>\n",
       "      <td>0</td>\n",
       "      <td>0</td>\n",
       "      <td>{'id': 35, 'name': 'Starting XI'}</td>\n",
       "      <td>1</td>\n",
       "      <td>{'id': 217, 'name': 'Barcelona'}</td>\n",
       "      <td>{'id': 1, 'name': 'Regular Play'}</td>\n",
       "      <td>...</td>\n",
       "      <td>NaN</td>\n",
       "      <td>NaN</td>\n",
       "      <td>NaN</td>\n",
       "      <td>NaN</td>\n",
       "      <td>NaN</td>\n",
       "      <td>NaN</td>\n",
       "      <td>NaN</td>\n",
       "      <td>NaN</td>\n",
       "      <td>NaN</td>\n",
       "      <td>NaN</td>\n",
       "    </tr>\n",
       "    <tr>\n",
       "      <th>1</th>\n",
       "      <td>dcd47e2f-6a76-499e-abee-413417bd067e</td>\n",
       "      <td>2</td>\n",
       "      <td>1</td>\n",
       "      <td>2021-09-06 00:00:00.000</td>\n",
       "      <td>0</td>\n",
       "      <td>0</td>\n",
       "      <td>{'id': 35, 'name': 'Starting XI'}</td>\n",
       "      <td>1</td>\n",
       "      <td>{'id': 217, 'name': 'Barcelona'}</td>\n",
       "      <td>{'id': 1, 'name': 'Regular Play'}</td>\n",
       "      <td>...</td>\n",
       "      <td>NaN</td>\n",
       "      <td>NaN</td>\n",
       "      <td>NaN</td>\n",
       "      <td>NaN</td>\n",
       "      <td>NaN</td>\n",
       "      <td>NaN</td>\n",
       "      <td>NaN</td>\n",
       "      <td>NaN</td>\n",
       "      <td>NaN</td>\n",
       "      <td>NaN</td>\n",
       "    </tr>\n",
       "    <tr>\n",
       "      <th>2</th>\n",
       "      <td>1d6e44c2-fb77-479e-bb98-851952e9b3f9</td>\n",
       "      <td>3</td>\n",
       "      <td>1</td>\n",
       "      <td>2021-09-06 00:00:00.000</td>\n",
       "      <td>0</td>\n",
       "      <td>0</td>\n",
       "      <td>{'id': 18, 'name': 'Half Start'}</td>\n",
       "      <td>1</td>\n",
       "      <td>{'id': 217, 'name': 'Barcelona'}</td>\n",
       "      <td>{'id': 1, 'name': 'Regular Play'}</td>\n",
       "      <td>...</td>\n",
       "      <td>NaN</td>\n",
       "      <td>NaN</td>\n",
       "      <td>NaN</td>\n",
       "      <td>NaN</td>\n",
       "      <td>NaN</td>\n",
       "      <td>NaN</td>\n",
       "      <td>NaN</td>\n",
       "      <td>NaN</td>\n",
       "      <td>NaN</td>\n",
       "      <td>NaN</td>\n",
       "    </tr>\n",
       "    <tr>\n",
       "      <th>3</th>\n",
       "      <td>d8eaa47d-d089-45a6-b3b4-a59ab8f65a6a</td>\n",
       "      <td>4</td>\n",
       "      <td>1</td>\n",
       "      <td>2021-09-06 00:00:00.000</td>\n",
       "      <td>0</td>\n",
       "      <td>0</td>\n",
       "      <td>{'id': 18, 'name': 'Half Start'}</td>\n",
       "      <td>1</td>\n",
       "      <td>{'id': 217, 'name': 'Barcelona'}</td>\n",
       "      <td>{'id': 1, 'name': 'Regular Play'}</td>\n",
       "      <td>...</td>\n",
       "      <td>NaN</td>\n",
       "      <td>NaN</td>\n",
       "      <td>NaN</td>\n",
       "      <td>NaN</td>\n",
       "      <td>NaN</td>\n",
       "      <td>NaN</td>\n",
       "      <td>NaN</td>\n",
       "      <td>NaN</td>\n",
       "      <td>NaN</td>\n",
       "      <td>NaN</td>\n",
       "    </tr>\n",
       "    <tr>\n",
       "      <th>4</th>\n",
       "      <td>547584c5-1b05-46ce-b61a-cd124d20b385</td>\n",
       "      <td>5</td>\n",
       "      <td>1</td>\n",
       "      <td>2021-09-06 00:00:07.279</td>\n",
       "      <td>0</td>\n",
       "      <td>7</td>\n",
       "      <td>{'id': 30, 'name': 'Pass'}</td>\n",
       "      <td>2</td>\n",
       "      <td>{'id': 217, 'name': 'Barcelona'}</td>\n",
       "      <td>{'id': 9, 'name': 'From Kick Off'}</td>\n",
       "      <td>...</td>\n",
       "      <td>NaN</td>\n",
       "      <td>NaN</td>\n",
       "      <td>NaN</td>\n",
       "      <td>NaN</td>\n",
       "      <td>NaN</td>\n",
       "      <td>NaN</td>\n",
       "      <td>NaN</td>\n",
       "      <td>NaN</td>\n",
       "      <td>NaN</td>\n",
       "      <td>NaN</td>\n",
       "    </tr>\n",
       "  </tbody>\n",
       "</table>\n",
       "<p>5 rows × 42 columns</p>\n",
       "</div>"
      ],
      "text/plain": [
       "                                     id  index  period  \\\n",
       "0  62fcd4a2-94ed-42f0-9c4e-d994ae217440      1       1   \n",
       "1  dcd47e2f-6a76-499e-abee-413417bd067e      2       1   \n",
       "2  1d6e44c2-fb77-479e-bb98-851952e9b3f9      3       1   \n",
       "3  d8eaa47d-d089-45a6-b3b4-a59ab8f65a6a      4       1   \n",
       "4  547584c5-1b05-46ce-b61a-cd124d20b385      5       1   \n",
       "\n",
       "                timestamp  minute  second                               type  \\\n",
       "0 2021-09-06 00:00:00.000       0       0  {'id': 35, 'name': 'Starting XI'}   \n",
       "1 2021-09-06 00:00:00.000       0       0  {'id': 35, 'name': 'Starting XI'}   \n",
       "2 2021-09-06 00:00:00.000       0       0   {'id': 18, 'name': 'Half Start'}   \n",
       "3 2021-09-06 00:00:00.000       0       0   {'id': 18, 'name': 'Half Start'}   \n",
       "4 2021-09-06 00:00:07.279       0       7         {'id': 30, 'name': 'Pass'}   \n",
       "\n",
       "   possession                   possession_team  \\\n",
       "0           1  {'id': 217, 'name': 'Barcelona'}   \n",
       "1           1  {'id': 217, 'name': 'Barcelona'}   \n",
       "2           1  {'id': 217, 'name': 'Barcelona'}   \n",
       "3           1  {'id': 217, 'name': 'Barcelona'}   \n",
       "4           2  {'id': 217, 'name': 'Barcelona'}   \n",
       "\n",
       "                         play_pattern  ... foul_committed  block interception  \\\n",
       "0   {'id': 1, 'name': 'Regular Play'}  ...            NaN    NaN          NaN   \n",
       "1   {'id': 1, 'name': 'Regular Play'}  ...            NaN    NaN          NaN   \n",
       "2   {'id': 1, 'name': 'Regular Play'}  ...            NaN    NaN          NaN   \n",
       "3   {'id': 1, 'name': 'Regular Play'}  ...            NaN    NaN          NaN   \n",
       "4  {'id': 9, 'name': 'From Kick Off'}  ...            NaN    NaN          NaN   \n",
       "\n",
       "  substitution bad_behaviour 50_50 injury_stoppage half_start player_off  \\\n",
       "0          NaN           NaN   NaN             NaN        NaN        NaN   \n",
       "1          NaN           NaN   NaN             NaN        NaN        NaN   \n",
       "2          NaN           NaN   NaN             NaN        NaN        NaN   \n",
       "3          NaN           NaN   NaN             NaN        NaN        NaN   \n",
       "4          NaN           NaN   NaN             NaN        NaN        NaN   \n",
       "\n",
       "   half_end  \n",
       "0       NaN  \n",
       "1       NaN  \n",
       "2       NaN  \n",
       "3       NaN  \n",
       "4       NaN  \n",
       "\n",
       "[5 rows x 42 columns]"
      ]
     },
     "execution_count": 2,
     "metadata": {},
     "output_type": "execute_result"
    }
   ],
   "source": [
    "events.head()"
   ]
  },
  {
   "cell_type": "code",
   "execution_count": 3,
   "id": "4f3ac71f",
   "metadata": {},
   "outputs": [],
   "source": [
    "df = events.copy()"
   ]
  },
  {
   "cell_type": "code",
   "execution_count": 4,
   "id": "9ad77861",
   "metadata": {},
   "outputs": [],
   "source": [
    "df = df[[\"minute\", \"type\",\n",
    "           \"team\", \"player\", \"location\",\n",
    "           \"shot\"]]"
   ]
  },
  {
   "cell_type": "code",
   "execution_count": 5,
   "id": "70f5ebca",
   "metadata": {},
   "outputs": [],
   "source": [
    "df = pd.concat([df, df[\"type\"].apply(pd.Series).add_prefix('type_')], axis=1)\n",
    "\n",
    "df = df.drop(columns = \"type\")"
   ]
  },
  {
   "cell_type": "code",
   "execution_count": 6,
   "id": "10d89c88",
   "metadata": {},
   "outputs": [],
   "source": [
    "df = df[df[\"type_id\"] == 16]"
   ]
  },
  {
   "cell_type": "code",
   "execution_count": 7,
   "id": "c29d4ce5",
   "metadata": {},
   "outputs": [],
   "source": [
    "df = df.drop(columns = [\"type_id\", \"type_name\"])"
   ]
  },
  {
   "cell_type": "code",
   "execution_count": 8,
   "id": "4c9f99b1",
   "metadata": {},
   "outputs": [],
   "source": [
    "df = pd.concat([df, df[\"player\"].apply(pd.Series).add_prefix('player_')], axis=1)\n",
    "df = df.drop(columns = \"player\")"
   ]
  },
  {
   "cell_type": "code",
   "execution_count": 9,
   "id": "77f3ebea",
   "metadata": {},
   "outputs": [],
   "source": [
    "df = pd.concat([df, df[\"location\"].apply(pd.Series).rename({'0': 'X', '1': 'Y'}, axis=1)], axis=1)\n",
    "df = df.drop(columns = \"location\")"
   ]
  },
  {
   "cell_type": "code",
   "execution_count": 10,
   "id": "19282495",
   "metadata": {},
   "outputs": [],
   "source": [
    "df = pd.concat([df, df[\"team\"].apply(pd.Series).add_prefix('team_')], axis=1)\n",
    "df = df.drop(columns = \"team\")"
   ]
  },
  {
   "cell_type": "code",
   "execution_count": 11,
   "id": "d860f4e1",
   "metadata": {},
   "outputs": [],
   "source": [
    "df = pd.concat([df, df[\"shot\"].apply(pd.Series)], axis=1)\n",
    "df = df.drop(columns = \"shot\")"
   ]
  },
  {
   "cell_type": "code",
   "execution_count": 19,
   "id": "1be8d766",
   "metadata": {},
   "outputs": [],
   "source": [
    "df = df.drop(columns = [\"key_pass_id\", \"first_time\", \"aerial_won\",\n",
    "                   \"deflected\", \"one_on_one\", \"open_goal\",\n",
    "                   \"redirect\", \"saved_to_post\", \"saved_off_target\",\n",
    "                  \"follows_dribble\", \"freeze_frame\", \"end_location\"])"
   ]
  },
  {
   "cell_type": "code",
   "execution_count": 21,
   "id": "16834207",
   "metadata": {},
   "outputs": [],
   "source": [
    "df = pd.concat([df, df[\"technique\"].apply(pd.Series).add_prefix('technique_')], axis=1)\n",
    "df = df.drop(columns = \"technique\")"
   ]
  },
  {
   "cell_type": "code",
   "execution_count": 23,
   "id": "dc9fff43",
   "metadata": {},
   "outputs": [],
   "source": [
    "df = pd.concat([df, df[\"outcome\"].apply(pd.Series).add_prefix('outcome_')], axis=1)\n",
    "df = df.drop(columns = \"outcome\")"
   ]
  },
  {
   "cell_type": "code",
   "execution_count": 25,
   "id": "effce942",
   "metadata": {},
   "outputs": [],
   "source": [
    "df = pd.concat([df, df[\"type\"].apply(pd.Series).add_prefix('type_')], axis=1)\n",
    "df = df.drop(columns = \"type\")"
   ]
  },
  {
   "cell_type": "code",
   "execution_count": 27,
   "id": "f4adf655",
   "metadata": {},
   "outputs": [],
   "source": [
    "df = pd.concat([df, df[\"body_part\"].apply(pd.Series).add_prefix('body_part_')], axis=1)\n",
    "df = df.drop(columns = \"body_part\")"
   ]
  },
  {
   "cell_type": "code",
   "execution_count": 31,
   "id": "c25ea5b5",
   "metadata": {},
   "outputs": [],
   "source": [
    "df[\"Goal\"] = df[\"outcome_name\"] == \"Goal\""
   ]
  },
  {
   "cell_type": "code",
   "execution_count": 39,
   "id": "9c7e342d",
   "metadata": {},
   "outputs": [],
   "source": [
    "df.to_csv(\"laliga_shots.csv\")"
   ]
  }
 ],
 "metadata": {
  "kernelspec": {
   "display_name": "Python 3 (ipykernel)",
   "language": "python",
   "name": "python3"
  },
  "language_info": {
   "codemirror_mode": {
    "name": "ipython",
    "version": 3
   },
   "file_extension": ".py",
   "mimetype": "text/x-python",
   "name": "python",
   "nbconvert_exporter": "python",
   "pygments_lexer": "ipython3",
   "version": "3.9.6"
  }
 },
 "nbformat": 4,
 "nbformat_minor": 5
}
